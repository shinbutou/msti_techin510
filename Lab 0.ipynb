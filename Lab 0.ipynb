{
 "cells": [
  {
   "cell_type": "markdown",
   "id": "ab22f849",
   "metadata": {},
   "source": [
    "# Objective & Tasks\n",
    "The objective of this lab is to review some of the material from TECHIN 509 in order to help the instructors gauge your comfort level with Python.\n",
    "\n",
    "Your task is to write Python code that solves each of the problems below. Please submit the Jupyter Notebook file before the end of class today. If you need help from an instructor, please let one of us know.\n",
    "\n",
    "You should also feel free to reference [Python's documentation](https://www.python.org/doc/) for any questions you have during the assignment."
   ]
  },
  {
   "cell_type": "markdown",
   "id": "b1fc0fc9",
   "metadata": {},
   "source": [
    "## Task 1\n",
    "Define two variables, `first_name` and `last_name` and concatenate the two so that they print on the same line. Ex. `Scott Stevson`"
   ]
  },
  {
   "cell_type": "code",
   "execution_count": 1,
   "id": "e7ef28e2",
   "metadata": {},
   "outputs": [
    {
     "name": "stdout",
     "output_type": "stream",
     "text": [
      "Scott Stevson\n"
     ]
    }
   ],
   "source": [
    "first_name, last_name = \"Scott\", \"Stevson\"\n",
    "print(first_name + ' ' + last_name)"
   ]
  },
  {
   "cell_type": "markdown",
   "id": "7057ec62",
   "metadata": {},
   "source": [
    "## Task 2\n",
    "Create a list letters, `a-f` and use a `for` loop to print out each letter one line at a time"
   ]
  },
  {
   "cell_type": "code",
   "execution_count": 34,
   "id": "b1a1aa23",
   "metadata": {},
   "outputs": [
    {
     "name": "stdout",
     "output_type": "stream",
     "text": [
      "a\n",
      "b\n",
      "c\n",
      "d\n",
      "e\n",
      "f\n"
     ]
    }
   ],
   "source": [
    "letters = ['a', 'b', 'c', 'd', 'e', 'f']\n",
    "\n",
    "for i in range(len(letters)):\n",
    "    print(letters[i])"
   ]
  },
  {
   "cell_type": "markdown",
   "id": "5f54a6c2",
   "metadata": {},
   "source": [
    "## Task 3\n",
    "Create a function that takes no arguments and asks the user for their name and then prints (or returns) their name with a cheerful greeting. Ex `G'day, Scott Stevson!`"
   ]
  },
  {
   "cell_type": "code",
   "execution_count": 13,
   "id": "1056519a",
   "metadata": {},
   "outputs": [
    {
     "name": "stdin",
     "output_type": "stream",
     "text": [
      "What's your name? Scott Stevson\n"
     ]
    },
    {
     "name": "stdout",
     "output_type": "stream",
     "text": [
      "G'day, Scott Stevson!\n"
     ]
    }
   ],
   "source": [
    "def greeting():\n",
    "    name = str(input(\"What's your name?\"))\n",
    "    print(f\"G'day, {name}!\")\n",
    "    \n",
    "greeting()"
   ]
  },
  {
   "cell_type": "markdown",
   "id": "84668724",
   "metadata": {},
   "source": [
    "## Task 4\n",
    "Create a function that calculates a 20% gratuity at a restaurant. The function should take a single argument (an `int` or `float`, your choice) and should return the amount of the tip to the console."
   ]
  },
  {
   "cell_type": "code",
   "execution_count": 6,
   "id": "14108736",
   "metadata": {},
   "outputs": [
    {
     "data": {
      "text/plain": [
       "20.02"
      ]
     },
     "execution_count": 6,
     "metadata": {},
     "output_type": "execute_result"
    }
   ],
   "source": [
    "def gratuity(total: float):\n",
    "    return total * 0.2\n",
    "\n",
    "gratuity(100.10)"
   ]
  },
  {
   "cell_type": "markdown",
   "id": "08ec9cf0",
   "metadata": {},
   "source": [
    "## Task 5\n",
    "Write a program that prints the numbers 0-10 to the console."
   ]
  },
  {
   "cell_type": "code",
   "execution_count": 4,
   "id": "87455a5d",
   "metadata": {},
   "outputs": [
    {
     "name": "stdout",
     "output_type": "stream",
     "text": [
      "0\n",
      "1\n",
      "2\n",
      "3\n",
      "4\n",
      "5\n",
      "6\n",
      "7\n",
      "8\n",
      "9\n",
      "10\n"
     ]
    }
   ],
   "source": [
    "for i in range(11):\n",
    "    print(i)"
   ]
  },
  {
   "cell_type": "markdown",
   "id": "214d25ef",
   "metadata": {},
   "source": [
    "## Task 6\n",
    "Write a program that finds the Factorial of a given number.\n",
    "More on factorials can be found [here:](https://www.cuemath.com/numbers/factorial/) "
   ]
  },
  {
   "cell_type": "code",
   "execution_count": 16,
   "id": "8d075244",
   "metadata": {},
   "outputs": [
    {
     "data": {
      "text/plain": [
       "120"
      ]
     },
     "execution_count": 16,
     "metadata": {},
     "output_type": "execute_result"
    }
   ],
   "source": [
    "def factorial(index: int):\n",
    "    if index == 0:\n",
    "        return 1\n",
    "    else:\n",
    "        return index * factorial(index - 1)\n",
    "\n",
    "factorial(5)"
   ]
  },
  {
   "cell_type": "markdown",
   "id": "a4d958e4",
   "metadata": {},
   "source": [
    "## Task 7\n",
    "Write a program that asks the user the same question over and over until the user indicates they no longer want to provide an answer."
   ]
  },
  {
   "cell_type": "code",
   "execution_count": 29,
   "id": "9bc54538",
   "metadata": {},
   "outputs": [
    {
     "name": "stdin",
     "output_type": "stream",
     "text": [
      "Do you like me? no\n",
      "Do you like me? yes\n",
      "Do you like me? no\n",
      "Do you like me? I no longer want to provide an answer\n"
     ]
    }
   ],
   "source": [
    "def repeater():\n",
    "    response = str(input(\"Do you like me?\"))\n",
    "    if response == \"I no longer want to provide an answer\":\n",
    "        pass\n",
    "    else:\n",
    "        repeater()\n",
    "        \n",
    "repeater()"
   ]
  },
  {
   "cell_type": "markdown",
   "id": "467f4177",
   "metadata": {},
   "source": [
    "## Task 8\n",
    "Write a `class` \"Person\" that when instantiated contains the persons first name, last name, and age."
   ]
  },
  {
   "cell_type": "code",
   "execution_count": 19,
   "id": "9003f0a9",
   "metadata": {},
   "outputs": [
    {
     "name": "stdout",
     "output_type": "stream",
     "text": [
      "50\n"
     ]
    }
   ],
   "source": [
    "class Person:\n",
    "    def __init__(self, first_name: str, last_name: str, age: int):\n",
    "        self.first_name = first_name\n",
    "        self.last_name = last_name\n",
    "        self.age = age\n",
    "\n",
    "scott = Person(\"Scott\", \"Stevson\", 50)\n",
    "print(scott.age)"
   ]
  },
  {
   "cell_type": "markdown",
   "id": "a1a718ba",
   "metadata": {},
   "source": [
    "## Task 9\n",
    "Write a program that asks the user whether they enjoy jogging. The user's response should be one of the following: \"yes\", \"no\", \"y\", \"n\". The program should continue asking the question until the user provides the correct response."
   ]
  },
  {
   "cell_type": "code",
   "execution_count": 26,
   "id": "28dedf56",
   "metadata": {},
   "outputs": [
    {
     "name": "stdin",
     "output_type": "stream",
     "text": [
      "Do you enjoy jogging? wrong_answer\n",
      "Do you enjoy jogging? yes\n"
     ]
    }
   ],
   "source": [
    "acceptables = ['yes', 'no', 'y', 'n']\n",
    "\n",
    "def jogging():\n",
    "    response = str(input(\"Do you enjoy jogging?\"))\n",
    "    if response in acceptables:\n",
    "        pass\n",
    "    else:\n",
    "        jogging()\n",
    "        \n",
    "jogging()"
   ]
  },
  {
   "cell_type": "markdown",
   "id": "fb04333e",
   "metadata": {},
   "source": [
    "## Task 10\n",
    "### Fibonacci Sequence\n",
    "Given a number `n`, return the nth Fibonacci's number. You can find more information about Fibonacci Sequences [here](https://www.mathsisfun.com/numbers/fibonacci-sequence.html)"
   ]
  },
  {
   "cell_type": "code",
   "execution_count": 22,
   "id": "d8435191",
   "metadata": {},
   "outputs": [
    {
     "name": "stdout",
     "output_type": "stream",
     "text": [
      "0\n",
      "1\n",
      "1\n",
      "2\n",
      "3\n",
      "5\n",
      "8\n",
      "13\n",
      "21\n",
      "34\n"
     ]
    }
   ],
   "source": [
    "def fibonacci(index: str):\n",
    "    if index == 0:\n",
    "        return 0\n",
    "    elif index == 1:\n",
    "        return 1\n",
    "    else:\n",
    "        return fibonacci(index - 1) + fibonacci(index - 2)\n",
    "    \n",
    "for i in range(10):\n",
    "    print(fibonacci(i))"
   ]
  },
  {
   "cell_type": "markdown",
   "id": "ef4fc681",
   "metadata": {},
   "source": [
    "## Bonus Question\n",
    "### Number Guessing Game\n",
    "* Write a function `guessing_game` that takes no arguments.\n",
    "* When run, the function chooses a random integer between 0 and 100 (inclusive).\n",
    "* Then ask the user to guess what number has been chosen.\n",
    "* Each time the user enters a guess, the program indicates one of the following:\n",
    "    * Too high\n",
    "    * Too low\n",
    "    * Just right\n",
    "* If the user guesses correctly, the program exits. Otherwise, the user is asked to try again.\n",
    "* The program only exits after the user guesses correctly."
   ]
  },
  {
   "cell_type": "code",
   "execution_count": 33,
   "id": "9f14a1d5",
   "metadata": {},
   "outputs": [
    {
     "name": "stdin",
     "output_type": "stream",
     "text": [
      "Please guess a random integer between 0 and 100. 10\n"
     ]
    },
    {
     "name": "stdout",
     "output_type": "stream",
     "text": [
      "Too low\n"
     ]
    },
    {
     "name": "stdin",
     "output_type": "stream",
     "text": [
      "Please guess a random integer between 0 and 100. 30\n"
     ]
    },
    {
     "name": "stdout",
     "output_type": "stream",
     "text": [
      "Too low\n"
     ]
    },
    {
     "name": "stdin",
     "output_type": "stream",
     "text": [
      "Please guess a random integer between 0 and 100. 50\n"
     ]
    },
    {
     "name": "stdout",
     "output_type": "stream",
     "text": [
      "Too high\n"
     ]
    },
    {
     "name": "stdin",
     "output_type": "stream",
     "text": [
      "Please guess a random integer between 0 and 100. 40\n"
     ]
    },
    {
     "name": "stdout",
     "output_type": "stream",
     "text": [
      "Too low\n"
     ]
    },
    {
     "name": "stdin",
     "output_type": "stream",
     "text": [
      "Please guess a random integer between 0 and 100. 45\n"
     ]
    },
    {
     "name": "stdout",
     "output_type": "stream",
     "text": [
      "Too low\n"
     ]
    },
    {
     "name": "stdin",
     "output_type": "stream",
     "text": [
      "Please guess a random integer between 0 and 100. 48\n"
     ]
    },
    {
     "name": "stdout",
     "output_type": "stream",
     "text": [
      "Just right\n"
     ]
    }
   ],
   "source": [
    "import random\n",
    "\n",
    "def guessing_game(answer: int):\n",
    "    guess = int(input(\"Please guess a random integer between 0 and 100.\"))\n",
    "    if guess == answer:\n",
    "        print(\"Just right\")\n",
    "        pass\n",
    "    elif guess > answer:\n",
    "        print(\"Too high\")\n",
    "        guessing_game(answer)\n",
    "    elif guess < answer:\n",
    "        print(\"Too low\")\n",
    "        guessing_game(answer)\n",
    "\n",
    "random = random.randint(0, 100)\n",
    "guessing_game(random)"
   ]
  }
 ],
 "metadata": {
  "kernelspec": {
   "display_name": "Python 3",
   "language": "python",
   "name": "python3"
  },
  "language_info": {
   "codemirror_mode": {
    "name": "ipython",
    "version": 3
   },
   "file_extension": ".py",
   "mimetype": "text/x-python",
   "name": "python",
   "nbconvert_exporter": "python",
   "pygments_lexer": "ipython3",
   "version": "3.8.8"
  }
 },
 "nbformat": 4,
 "nbformat_minor": 5
}
