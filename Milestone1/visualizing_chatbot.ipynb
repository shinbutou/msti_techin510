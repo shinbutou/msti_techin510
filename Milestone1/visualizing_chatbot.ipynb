{
 "cells": [
  {
   "cell_type": "markdown",
   "metadata": {},
   "source": [
    "# Milestone 1\n",
    "Building on previous exercises, build an interactive application that asks the user a series of questions and then stores the user's answers for later analysis."
   ]
  },
  {
   "cell_type": "markdown",
   "metadata": {},
   "source": [
    "## Requirements\n",
    "Your submission should include the following:\n",
    "- A Chatbot that asks three users a series of at least three questions.\n",
    "- Your chatbot should store the user's responses in a data structure, preferably a Pandas DataFrame, so that it can present a graphical analysis of the responses.\n",
    "- Your chatbot should provide at least one visualization, such as a vertical bar chart, that provides a basic summary and analysis of the user input."
   ]
  },
  {
   "cell_type": "markdown",
   "metadata": {},
   "source": [
    "## Example Code"
   ]
  },
  {
   "cell_type": "code",
   "execution_count": null,
   "metadata": {},
   "outputs": [],
   "source": [
    "import pandas as pd\n",
    "import matplotlib.pyplot as plt"
   ]
  },
  {
   "cell_type": "markdown",
   "metadata": {},
   "source": [
    "### Create a Basic Chatbot"
   ]
  },
  {
   "cell_type": "code",
   "execution_count": null,
   "metadata": {},
   "outputs": [],
   "source": [
    "## Simple interactive chatbot\n",
    "user = input(\"What is your name? \")\n",
    "print(\"Type 'end' or 'quit' to quit.\")\n",
    "while True:\n",
    "    msg = input(\"Hi how can I help you? \")\n",
    "    if (\"end\" in msg) | (\"quit\" in msg):\n",
    "        break\n",
    "    print(\"you said {} words and {} letters\".format(len(msg.split(\" \")), len(msg)),\n",
    "        end=\"\\n\")"
   ]
  },
  {
   "cell_type": "code",
   "execution_count": null,
   "metadata": {},
   "outputs": [],
   "source": [
    "power, questions, users = True, 0, 0\n",
    "names, ages, heights, weights = [], [], [], [] \n",
    "\n",
    "while power == True:\n",
    "    while users != 3:\n",
    "        questions = 0\n",
    "\n",
    "        if users == 0:\n",
    "            user_number = 'first'\n",
    "        elif users == 1:\n",
    "            user_number = 'second'\n",
    "        elif users == 2:\n",
    "            user_number = 'third'\n",
    "\n",
    "        while questions != 4:\n",
    "            if questions == 0:\n",
    "                user_input = str(input(f\"What is your name, our {user_number} user?\"))\n",
    "                user_name = user_input\n",
    "                names.append(user_name)\n",
    "                questions += 1\n",
    "            elif questions == 1:\n",
    "                user_input = str(input(f\"How old are you, {user_name}?\"))\n",
    "                ages.append(user_input)\n",
    "                questions += 1\n",
    "            elif questions == 2:\n",
    "                user_input = str(input(f\"How tall are you in centimeters, {user_name}?\"))\n",
    "                heights.append(user_input)\n",
    "                questions += 1\n",
    "            elif questions == 3:\n",
    "                user_input = str(input(f\"How much do you weight in kilograms, {user_name}?\"))\n",
    "                weights.append(user_input)\n",
    "                questions += 1\n",
    "                if users == 2:\n",
    "                    power = False\n",
    "            else:\n",
    "                pass\n",
    "\n",
    "        users += 1"
   ]
  },
  {
   "cell_type": "markdown",
   "metadata": {},
   "source": [
    "### Initialize a DataFrame to Store User Input"
   ]
  },
  {
   "cell_type": "code",
   "execution_count": null,
   "metadata": {},
   "outputs": [],
   "source": [
    "# Sample Code\n",
    "data_store = pd.DataFrame()"
   ]
  },
  {
   "cell_type": "code",
   "execution_count": null,
   "metadata": {},
   "outputs": [],
   "source": []
  },
  {
   "cell_type": "markdown",
   "metadata": {},
   "source": [
    "### Run the Chatbot and Save Each User's Answers"
   ]
  },
  {
   "cell_type": "code",
   "execution_count": null,
   "metadata": {},
   "outputs": [],
   "source": [
    "## Simple interactive chatbot\n",
    "user_responses = []\n",
    "escape = 'QT'\n",
    "user = input(\"What is your name? \")\n",
    "question = \"Are you a stduent?\"\n",
    "print(f'I will ask a few questions. Press \"{escape}\" to quit.')\n",
    "\n",
    "while True:\n",
    "    response = input(f\"{question} \")\n",
    "    if escape in response:\n",
    "        print('Bye!')\n",
    "        break\n",
    "    new_response = {'user_name': user, 'question': question, 'response': response}\n",
    "    user_responses.append(new_response)\n",
    "\n",
    "new_data = pd.DataFrame(user_responses)\n",
    "data_store = pd.concat([data_store, new_data])\n",
    "print(\"Thanks for your response. I've made a note of it.\")"
   ]
  },
  {
   "cell_type": "markdown",
   "metadata": {},
   "source": [
    "### View Cumulative Data"
   ]
  },
  {
   "cell_type": "code",
   "execution_count": null,
   "metadata": {},
   "outputs": [],
   "source": [
    "# Sample Code\n",
    "data_store"
   ]
  },
  {
   "cell_type": "markdown",
   "metadata": {},
   "source": [
    "### Analyze Data"
   ]
  },
  {
   "cell_type": "code",
   "execution_count": null,
   "metadata": {},
   "outputs": [],
   "source": [
    "# Sample Code\n",
    "data_store['response'].value_counts().plot(kind='barh', xlabel=\"Are you a stduent?\")"
   ]
  },
  {
   "cell_type": "markdown",
   "metadata": {},
   "source": [
    "## Be Creative!\n",
    "Don't limit yourself to a simple Q&A. Feel free to explore things like the sentiment analysis that we did in Lab 1 by determining whether a user's input is positive or negative (remember the positive and negative word lists)."
   ]
  }
 ],
 "metadata": {
  "kernelspec": {
   "display_name": "Python 3",
   "language": "python",
   "name": "python3"
  },
  "language_info": {
   "codemirror_mode": {
    "name": "ipython",
    "version": 3
   },
   "file_extension": ".py",
   "mimetype": "text/x-python",
   "name": "python",
   "nbconvert_exporter": "python",
   "pygments_lexer": "ipython3",
   "version": "3.8.8"
  }
 },
 "nbformat": 4,
 "nbformat_minor": 4
}
