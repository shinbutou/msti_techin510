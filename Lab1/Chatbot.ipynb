{
 "cells": [
  {
   "cell_type": "markdown",
   "id": "20feb6b3",
   "metadata": {},
   "source": [
    "# Working with Chatbots"
   ]
  },
  {
   "cell_type": "markdown",
   "id": "95a0889f",
   "metadata": {},
   "source": [
    "## Activity 1: Demo an Existing Chatbot\n",
    "Before we begin creating our own chatbots, let's take a look at a few example chatbots from the popular NLTK library."
   ]
  },
  {
   "cell_type": "markdown",
   "id": "d9a8774c",
   "metadata": {},
   "source": [
    "### Install the Natural Language Toolkit (NLTK)\n",
    "First we install the NLTK library and call the `.chat.chatbots()` method to see a selection of simple pre-built chatbots "
   ]
  },
  {
   "cell_type": "code",
   "execution_count": null,
   "id": "cc06c275",
   "metadata": {
    "collapsed": true,
    "jupyter": {
     "outputs_hidden": true
    }
   },
   "outputs": [],
   "source": [
    "pip install nltk"
   ]
  },
  {
   "cell_type": "markdown",
   "id": "6e64b24c",
   "metadata": {},
   "source": [
    "We'll also install pandas which we'll be using the read text files"
   ]
  },
  {
   "cell_type": "code",
   "execution_count": null,
   "id": "e70245e9",
   "metadata": {
    "collapsed": true,
    "jupyter": {
     "outputs_hidden": true
    }
   },
   "outputs": [],
   "source": [
    "pip install pandas"
   ]
  },
  {
   "cell_type": "code",
   "execution_count": 10,
   "id": "7456c029",
   "metadata": {
    "collapsed": true,
    "jupyter": {
     "outputs_hidden": true
    }
   },
   "outputs": [],
   "source": [
    "import pandas as pd"
   ]
  },
  {
   "cell_type": "code",
   "execution_count": 11,
   "id": "4374576d",
   "metadata": {
    "collapsed": true,
    "jupyter": {
     "outputs_hidden": true
    }
   },
   "outputs": [],
   "source": [
    "import nltk"
   ]
  },
  {
   "cell_type": "code",
   "execution_count": null,
   "id": "7c0fc284",
   "metadata": {
    "collapsed": true,
    "jupyter": {
     "outputs_hidden": true
    }
   },
   "outputs": [],
   "source": [
    "nltk.chat.zen_chat()"
   ]
  },
  {
   "cell_type": "markdown",
   "id": "5bebd13b",
   "metadata": {},
   "source": [
    "## Lab 1: Create Your Own Chatbot"
   ]
  },
  {
   "cell_type": "markdown",
   "id": "77d77d36",
   "metadata": {},
   "source": [
    "###  Step 1: Barebones Interactive Chatbot\n",
    "You will first create a simple interactive loop between user input and program output. Before entering the loop, your program should prompt the user to request their input (e.g. \"Hi, how can I help you?\"). At each iteration of the loop, the program should take user input (typed onto the terminal pressing 'Enter' at the end) and then output simple statistical information about that input (e.g. \"You entered X letters and Y words\"). Also add a way to exit the loop; for example, if the user types \"Bye\" the loop should end and your program should halt after a final prompt to the user to acknowledge that the interaction has ended. Add your code below."
   ]
  },
  {
   "cell_type": "code",
   "execution_count": null,
   "id": "032aac1a",
   "metadata": {
    "collapsed": true,
    "jupyter": {
     "outputs_hidden": true
    }
   },
   "outputs": [
    {
     "name": "stdin",
     "output_type": "stream",
     "text": [
      "Hi, how can I help you? Bye\n"
     ]
    }
   ],
   "source": [
    "## Barebones interactice chatbot\n",
    "# TODO: Implement the interactive system as described above\n",
    "def chatbot():\n",
    "    conversation, first_time = True, True\n",
    "    \n",
    "    while conversation == True:\n",
    "        if first_time == True:\n",
    "            user_input = str(input(\"Hi, how can I help you?\"))\n",
    "            first_time = False\n",
    "        elif user_input == 'Bye':\n",
    "            conversation == False\n",
    "        else:\n",
    "            word_count, letter_count = user_input.count(' ') + 1, len(user_input) - user_input.count(' ')\n",
    "            user_input = str(input(f\"You entered {letter_count} letters and {word_count} words\"))\n",
    "        \n",
    "chatbot()"
   ]
  },
  {
   "cell_type": "markdown",
   "id": "95fe6739",
   "metadata": {},
   "source": [
    "### Step 2: Simple ListenBot\n",
    "\n",
    "Next you will upgrade your chatbot to be a \"good listener.\" Do not worry about deleting or overwriting things you did in the previous step. Before entering into the interactive loop, your chatbot should ask the user's name and remember it throughout the chat. It should also prompt the user to talk about something (e.g. \"How was your day, Ashitaka?\") As part of the loop, the chatbot should analyze the user's input and decide whether to give a positive, negative, or neutral response. To analyze the input, we have supplied a fixed list of [positive](http://ptrckprry.com/course/ssd/data/positive-words.txt) and [negative](http://ptrckprry.com/course/ssd/data/negative-words.txt) words and which will determine the number of positive and negative words that occur in the user's input. For the most simple version of the `ListenBot`, your list of positive and negative words do not have to be too long, just enough to showcase a simple conversation. However, the lists we supply will make your `ListenBot` more robust. \n",
    "\n",
    "The chatbot should respond based on the number of positive and negative words in the user's input. Your chatbot should have at least two different responses of each type and should alternate between responses, e.g.:\n",
    "* Positive responses: \"Great!\" \"Cool!\"\n",
    "* Negative responses: \"Too bad!\" \"Womp, womp!\"\n",
    "* Neutral responses: \"Hmm..\" \"I see.\"\n",
    "\n",
    "As before, there should be at least one way to end the conversation. You can make the ways to end the conversation known to the user in your earlier prompt or somewhere during the conversation. Add your updated code below."
   ]
  },
  {
   "cell_type": "code",
   "execution_count": null,
   "id": "afc72e51",
   "metadata": {
    "collapsed": true,
    "jupyter": {
     "outputs_hidden": true
    },
    "tags": []
   },
   "outputs": [
    {
     "name": "stdin",
     "output_type": "stream",
     "text": [
      "Hi, what is your name? Scott\n",
      "How was your day, Scott? pretty bad actually, it has been a shit show\n"
     ]
    },
    {
     "name": "stdout",
     "output_type": "stream",
     "text": [
      "<module 'random' from '/opt/anaconda3/envs/master/lib/python3.8/random.py'>\n",
      "Too bad!\n"
     ]
    },
    {
     "name": "stdin",
     "output_type": "stream",
     "text": [
      "How was your day, Scott? it is okay\n"
     ]
    },
    {
     "name": "stdout",
     "output_type": "stream",
     "text": [
      "<module 'random' from '/opt/anaconda3/envs/master/lib/python3.8/random.py'>\n",
      "Hmm...\n"
     ]
    },
    {
     "name": "stdin",
     "output_type": "stream",
     "text": [
      "How was your day, Scott? I had an awesome day\n"
     ]
    },
    {
     "name": "stdout",
     "output_type": "stream",
     "text": [
      "<module 'random' from '/opt/anaconda3/envs/master/lib/python3.8/random.py'>\n",
      "Great!\n"
     ]
    }
   ],
   "source": [
    "## Simple ListenBot\n",
    "import pandas as pd\n",
    "import random\n",
    "\n",
    "positive = list(pd.read_csv(\"positive_words.txt\", header=0).iloc[:,0].values)\n",
    "negative = list(pd.read_csv(\"negative_words.txt\", header=0).iloc[:,0].values)\n",
    "\n",
    "def word_statistics(user_input):\n",
    "    pos, neg = 0, 0\n",
    "    words = user_input.split(' ')\n",
    "    for i in range(len(words)):\n",
    "        if words[i] in positive:\n",
    "            pos += 1\n",
    "        elif words[i] in negative:\n",
    "            neg += 1\n",
    "    return pos, neg\n",
    "\n",
    "def listenbot():\n",
    "    user_name = str(input(\"Hi, what is your name?\"))\n",
    "    # TODO: Implement ListenBot by extending the barebones interactive chatbot\n",
    "    while True:\n",
    "        user_input = str(input(f\"How was your day, {user_name}?\"))\n",
    "        analysis = word_statistics(user_input)\n",
    "        pos, neg = analysis[0], analysis[1]        \n",
    "        # Use the positive and negative word lists below to make your ListenBot more effective\n",
    "        randint = random.randint(0, 10)\n",
    "        print(random)\n",
    "        if pos > neg:\n",
    "            positive_responses = ['Great!', 'Cool!']\n",
    "            print(positive_responses[randint % 2])\n",
    "        elif pos == neg:\n",
    "            neutral_responses = ['Hmm...', 'I see.']\n",
    "            print(neutral_responses[randint % 2])\n",
    "        elif pos < neg:\n",
    "            negative_responses = ['Too bad!', 'Womp, womp!']\n",
    "            print(negative_responses[randint % 2])\n",
    "\n",
    "listenbot()\n",
    "# Note that we generate these lists from words in plain text files that you can find on\n",
    "# Canvas under Files. Upload them to your own notebook server."
   ]
  },
  {
   "cell_type": "markdown",
   "id": "dba59602",
   "metadata": {},
   "source": [
    "#### Positive list and its word count"
   ]
  },
  {
   "cell_type": "code",
   "execution_count": null,
   "id": "6425595a",
   "metadata": {
    "collapsed": true,
    "jupyter": {
     "outputs_hidden": true
    }
   },
   "outputs": [],
   "source": [
    "positive = list(pd.read_csv(\"positive_words.txt\", header=0).iloc[:,0].values)"
   ]
  },
  {
   "cell_type": "code",
   "execution_count": null,
   "id": "09d38dd7",
   "metadata": {
    "collapsed": true,
    "jupyter": {
     "outputs_hidden": true
    }
   },
   "outputs": [],
   "source": [
    "len(positive)"
   ]
  },
  {
   "cell_type": "markdown",
   "id": "2dc06eeb",
   "metadata": {},
   "source": [
    "#### Negative list and its word count"
   ]
  },
  {
   "cell_type": "code",
   "execution_count": null,
   "id": "a1e6351b",
   "metadata": {
    "collapsed": true,
    "jupyter": {
     "outputs_hidden": true
    }
   },
   "outputs": [],
   "source": [
    "negative = list(pd.read_csv(\"negative_words.txt\", header=0).iloc[:,0].values)"
   ]
  },
  {
   "cell_type": "code",
   "execution_count": null,
   "id": "cca13097",
   "metadata": {
    "collapsed": true,
    "jupyter": {
     "outputs_hidden": true
    }
   },
   "outputs": [],
   "source": [
    "len(negative)"
   ]
  },
  {
   "cell_type": "markdown",
   "id": "4a787e19",
   "metadata": {},
   "source": [
    "### Step 3: Improved Listenbot\n",
    "\n",
    "Now test your chatbot with a classmate or friend. Based on breakdowns or awkwardness in these tests choose at least one additional improvement and implement it below. Make sure to descibe your improvement in the list below."
   ]
  },
  {
   "cell_type": "code",
   "execution_count": 20,
   "id": "315aee0b",
   "metadata": {
    "collapsed": true,
    "jupyter": {
     "outputs_hidden": true
    }
   },
   "outputs": [],
   "source": [
    "## Improved ListenBot\n",
    "\n",
    "# TODO: Implement improved ListenBot that addresses at least one breakdown of the original ListenBotb"
   ]
  },
  {
   "cell_type": "markdown",
   "id": "35d5faf5",
   "metadata": {},
   "source": [
    "### List of Improvements\n",
    "Provide a list or table here in `markdown` containing the improvements you made and a brief description of why you made them."
   ]
  }
 ],
 "metadata": {
  "kernelspec": {
   "display_name": "Python 3",
   "language": "python",
   "name": "python3"
  },
  "language_info": {
   "codemirror_mode": {
    "name": "ipython",
    "version": 3
   },
   "file_extension": ".py",
   "mimetype": "text/x-python",
   "name": "python",
   "nbconvert_exporter": "python",
   "pygments_lexer": "ipython3",
   "version": "3.8.8"
  }
 },
 "nbformat": 4,
 "nbformat_minor": 5
}
