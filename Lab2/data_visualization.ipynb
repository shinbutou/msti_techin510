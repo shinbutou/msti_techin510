{
 "cells": [
  {
   "cell_type": "markdown",
   "metadata": {
    "id": "4ZGlGoIO-pNr"
   },
   "source": [
    "# LAB2: DATA VISUALIZATION & PROCESSING IN PYTHON\n",
    "In this lab you will practice Python data processing and visualization.\n"
   ]
  },
  {
   "cell_type": "markdown",
   "metadata": {
    "id": "lqeMmXmy_Ky1"
   },
   "source": [
    "## Step 1: Access the datasets\n",
    "\n",
    "You can access the data files for `Lab_2` on Canvas in the `Files/Lab 2` section of *TECHIN 510*, and then upload them to your local Jupyter server.\n",
    "* Robot Faces data set\n",
    "* People\n",
    "* Pre-recorded accelerometer data\n",
    "\n",
    "And you can incorporate them into your code using the sample code in the next cell.\n"
   ]
  },
  {
   "cell_type": "code",
   "execution_count": 1,
   "metadata": {
    "id": "LheiuPmvByaL"
   },
   "outputs": [],
   "source": [
    "## SAMPLE CODE\n",
    "import pandas as pd\n",
    "\n",
    "f1 = 'robot_faces.csv'\n",
    "f2 = 'people.csv'\n",
    "f3 = 'accelerometer.csv'\n",
    "\n",
    "faces = pd.read_csv(f1)\n",
    "people = pd.read_csv(f2)\n",
    "accel = pd.read_csv(f3)"
   ]
  },
  {
   "cell_type": "markdown",
   "metadata": {
    "id": "54ZlkTof_M4R"
   },
   "source": [
    "## Step 2: Robot face data exploration\n",
    "\n",
    "Let's start by exploring the data in `robot_faces.csv`. First, write the code for loading and preprocessing the data. After inspecting the different column names to better understand what the data includes, pose a specific question and write new code to answer that question. Some example questions are:\n",
    "* How many robots both have a mouth and a nose?\n",
    "* Which country has the highest fraction of robots with black face color?\n",
    "* Do more robots built after 2012 have blue eyes than those built before?\n",
    "\n",
    "Your code should print the question at the beginning and print the computed answer at the end. Your script should also create at least one visualization that allows a human to answer the same question without having to do calculations.\n",
    "\n",
    "*If you are interested, you can read more about the face data [here](https://spectrum.ieee.org/automaton/robotics/humanoids/what-people-see-in-157-robot-faces).* \n"
   ]
  },
  {
   "cell_type": "code",
   "execution_count": 2,
   "metadata": {
    "id": "9iqMQnQT_0-i"
   },
   "outputs": [
    {
     "name": "stdout",
     "output_type": "stream",
     "text": [
      "Do more robots built from 2015 on have white eyes than those built before? Yes, proportionally\n"
     ]
    }
   ],
   "source": [
    "## TODO: Write code to ask a question about the face data and answer it both visually and programmatically\n",
    "question = 'Do more robots built from 2015 on have white eyes than those built before?'\n",
    "\n",
    "previous_years = list(range(2001, 2015))\n",
    "previous_years.remove(2002)\n",
    "previous_years = list(map(str, previous_years))\n",
    "\n",
    "before = faces[faces['year'].isin(previous_years) == True]\n",
    "after = faces[faces['year'].isin(previous_years) == False]\n",
    "\n",
    "before_rate = len(before[before['eye color'] == 'white']) / len(before)\n",
    "after_rate = len(after[after['eye color'] == 'white']) / len(after)\n",
    "\n",
    "if before_rate == after_rate:\n",
    "    answer = 'As many proportionally.'\n",
    "elif before_rate < after_rate:\n",
    "    answer = 'No, proportionally'\n",
    "elif before_rate > after_rate:\n",
    "    answer = 'Yes, proportionally'\n",
    "\n",
    "print(f\"{question} {answer}\")"
   ]
  },
  {
   "cell_type": "code",
   "execution_count": 5,
   "metadata": {},
   "outputs": [
    {
     "data": {
      "image/png": "[encoded data removed]",
      "text/plain": [
       "<Figure size 432x288 with 1 Axes>"
      ]
     },
     "metadata": {
      "needs_background": "light"
     },
     "output_type": "display_data"
    }
   ],
   "source": [
    "# Visualization comparing the two statistics \n",
    "import matplotlib.pyplot as plt\n",
    "\n",
    "plt.bar(['Before 2015', '2015 Onwards'], [before_rate, after_rate])\n",
    "plt.ylabel('Percentage')\n",
    "plt.show()"
   ]
  },
  {
   "cell_type": "code",
   "execution_count": 17,
   "metadata": {},
   "outputs": [
    {
     "data": {
      "text/html": [
       "<div>\n",
       "<style scoped>\n",
       "    .dataframe tbody tr th:only-of-type {\n",
       "        vertical-align: middle;\n",
       "    }\n",
       "\n",
       "    .dataframe tbody tr th {\n",
       "        vertical-align: top;\n",
       "    }\n",
       "\n",
       "    .dataframe thead th {\n",
       "        text-align: right;\n",
       "    }\n",
       "</style>\n",
       "<table border=\"1\" class=\"dataframe\">\n",
       "  <thead>\n",
       "    <tr style=\"text-align: right;\">\n",
       "      <th></th>\n",
       "      <th>Name</th>\n",
       "      <th>Unnamed: 1</th>\n",
       "      <th>robot type</th>\n",
       "      <th>category</th>\n",
       "      <th>full head</th>\n",
       "      <th>screen type</th>\n",
       "      <th>mouth</th>\n",
       "      <th>nose</th>\n",
       "      <th>eyebrows</th>\n",
       "      <th>cheeks (blush)</th>\n",
       "      <th>...</th>\n",
       "      <th>eyebrow length</th>\n",
       "      <th>eyebrow arch</th>\n",
       "      <th>cheek color</th>\n",
       "      <th>cheek shape</th>\n",
       "      <th>cheek size</th>\n",
       "      <th>cheek placement</th>\n",
       "      <th>cheek spacing</th>\n",
       "      <th>hair color</th>\n",
       "      <th>country/region of origin</th>\n",
       "      <th>year</th>\n",
       "    </tr>\n",
       "  </thead>\n",
       "  <tbody>\n",
       "    <tr>\n",
       "      <th>26</th>\n",
       "      <td>Shanghai Jinghong</td>\n",
       "      <td>25</td>\n",
       "      <td>humanoid</td>\n",
       "      <td>service</td>\n",
       "      <td>x</td>\n",
       "      <td>blcd</td>\n",
       "      <td>y</td>\n",
       "      <td>x</td>\n",
       "      <td>x</td>\n",
       "      <td>y</td>\n",
       "      <td>...</td>\n",
       "      <td>x</td>\n",
       "      <td>x</td>\n",
       "      <td>pink</td>\n",
       "      <td>oval</td>\n",
       "      <td>med</td>\n",
       "      <td>up</td>\n",
       "      <td>wide</td>\n",
       "      <td>x</td>\n",
       "      <td>China</td>\n",
       "      <td>no data</td>\n",
       "    </tr>\n",
       "  </tbody>\n",
       "</table>\n",
       "<p>1 rows × 77 columns</p>\n",
       "</div>"
      ],
      "text/plain": [
       "                 Name  Unnamed: 1 robot type category full head screen type  \\\n",
       "26  Shanghai Jinghong          25   humanoid  service         x        blcd   \n",
       "\n",
       "   mouth nose eyebrows cheeks (blush)  ... eyebrow length eyebrow arch  \\\n",
       "26     y    x        x              y  ...              x            x   \n",
       "\n",
       "   cheek color cheek shape cheek size cheek placement cheek spacing  \\\n",
       "26        pink        oval        med              up          wide   \n",
       "\n",
       "   hair color country/region of origin     year  \n",
       "26          x                    China  no data  \n",
       "\n",
       "[1 rows x 77 columns]"
      ]
     },
     "execution_count": 17,
     "metadata": {},
     "output_type": "execute_result"
    }
   ],
   "source": [
    "# Note that there is one robot that does not have the year data, but it does not effect the overall result\n",
    "faces[faces['year'] == 'no data']"
   ]
  },
  {
   "cell_type": "markdown",
   "metadata": {
    "id": "54ZlkTof_M4R"
   },
   "source": [
    "## Step 3: Persons data exploration\n",
    "\n",
    "We continue our exploration of the data by diving into a dataset of notional (100% fake) persons. Just as you did with the Robot data, write the code for loading and preprocessing the Person data. After inspecting the different column names to better understand what the data includes, pose a specific question and write new code to answer that question. Some example questions are:\n",
    "* How many males are in the data set vs females?\n",
    "* Who are the oldest people living in Chicago?\n",
    "* Which city is most popular with people in their 30's?\n",
    "* What are the top 5 US states represented in the data?\n",
    "\n",
    "Your code should print the question at the beginning and print the computed answer at the end. Your script should also create at least one visualization that allows a human to answer the same question without having to do calculations."
   ]
  },
  {
   "cell_type": "code",
   "execution_count": 3,
   "metadata": {
    "id": "9iqMQnQT_0-i"
   },
   "outputs": [],
   "source": [
    "## TODO: Write code to ask a question about the person data and answer it both visually and programmatically"
   ]
  },
  {
   "cell_type": "markdown",
   "metadata": {
    "id": "6QdkSxgKACqR"
   },
   "source": [
    "## Step 4: Load and visualize accelerometer data\n",
    "\n",
    "Next you will explore the accelerometer data in `accelerometer.csv` recorded from a mobile device. \n",
    "\n",
    "The first thing your Python script should do is open the data file and parse its content into Python lists or arrays. Each row in the data file corresponds to one reading. The first value is the time in seconds, and the next three values are the x, y, z acceleration values from a mobile device accelerometer. Your goal for this part of the lab is to obtain four lists or arrays (of same length) each containing the different columns in the data file.\n",
    "\n",
    "You can use the `pd.read_csv()`, but if you would like to practice some of the string operations we used during the `chatbot` exercise last week, you can open the file, read its content into a single string, and then use the split() function to split into lines (`data_string.split(\"\\n\")`) and elements (`data_string.split(\",\")`).\n",
    "\n",
    "Before starting to process the data, visualize it to get a better sense of what is in the data. Keep visualization steps in your script for your lab submission."
   ]
  },
  {
   "cell_type": "code",
   "execution_count": null,
   "metadata": {
    "id": "oR389VvaASoo"
   },
   "outputs": [],
   "source": [
    "## TODO: Code for loading and visualizing accelerometer data"
   ]
  },
  {
   "cell_type": "markdown",
   "metadata": {
    "id": "JD-CEhvkAaRI"
   },
   "source": [
    "## Step 5: Detecting lack of movement\n",
    "\n",
    "As a first data processing exercise, iterate over the lists or arrays you created to compute the: 1) total amount of time; and 2) percentage of time during which the person holding the mobile device was not moving (e.g., absolute acceleration smaller than ~0.2m/sec^2). Visualize parts of the data where lack of movement is detected together with the original data to verify that it works correctly."
   ]
  },
  {
   "cell_type": "code",
   "execution_count": null,
   "metadata": {
    "id": "FxuaPlLOAfKF"
   },
   "outputs": [],
   "source": [
    "## TODO: Code for detecting lack of movement (will be run after running code from Step 3)"
   ]
  },
  {
   "cell_type": "markdown",
   "metadata": {
    "id": "EfgBr8JnAmau"
   },
   "source": [
    "## Step 6: Counting steps\n",
    "\n",
    "Next you will iterate over the data to count how many steps were taken. There are alternative ways to do that but here we will outline an approximation of the \"zero-crossing\" method. Walking with an accelerometer results in cyclic patterns characterized by pairs of peaks and valleys in acceleration in some directions. In the provided data you can focus on the z dimension, since the mobile device was held in fixed orientation. To determine the peaks and valleys, iterate over the z values; compare each element in the list to the value of the previous and the next element (note that you cannot do this for the first and last elements of the list); if it is greater than or smaller than both of those, it corresponds to a peak or a valley. Create a separate list, of same length as the data lists, that has the value +1 where peaks occur, -1 where valleys occur, and 0 otherwise. Visualize the peaks and the valleys on the same plot as your data to verify that your algorithm works correctly.\n",
    "\n",
    "You will see that even very small variations in acceleration cause peaks and valleys, so we need to be stricter in detecting peaks and valleys that correspond to an actual step. For that, you can extend the condition for peaks and valleys to include a threshold on the absolute value (`math.fabs()`) of the acceleration in the z direction (e.g., ~1m/sec^2). Visually inspect the number of peaks and valleys with this stricter criteria. \n",
    "\n",
    "A rough approximation of the number of steps would be the `math.min()` of the numbers of peaks and number of valleys. If you are out of time for this lab, you can stop here. However, to count pairs of peaks and valleys more strictly, you need to iterate over the list of peaks and valleys to determine the number of times a peak is followed by a valley (or vice versa) within one second or so (i.e., -1 and 1 separated by no more than four 0s in the peak/valley list). So if you have time, implement counting of pairs as a more accurate approximation of the number of steps. \n",
    "\n",
    "Your script should print the counted number of steps on the terminal at the end."
   ]
  },
  {
   "cell_type": "code",
   "execution_count": null,
   "metadata": {
    "id": "yiNgcVNuAvC2"
   },
   "outputs": [],
   "source": [
    "## TODO: Code for counting steps in accelerometer data (will be run after Step 4)"
   ]
  },
  {
   "cell_type": "markdown",
   "metadata": {
    "id": "yBHpypuhA7rx"
   },
   "source": [
    "## Bonus\n",
    "\n",
    "If you have extra time on this lab, go over your code and add error checks for things that might go wrong, such as if the data file does not have the expected format or if an operation returns empty lists. Instead of throwing errors in these situations, your script should print informative error messages (remember `try`/`except` clauses). In addition, you can go over your code to refactor it into potentially re-usable functions. Finally, you can use the ipywidgets we covered in class to make your figures interactive. Do this part on the code above and list all the improments you made in the text here."
   ]
  },
  {
   "cell_type": "markdown",
   "metadata": {
    "id": "3FhAAkeiBBrU"
   },
   "source": [
    "## Step 7: Submit your code on Canvas\n",
    "\n",
    "Complete this lab by submitting this file (`lab2.ipynb`) on Canvas, by January 24, 23:59. We will test your code by manually running them and inspecting the code to verify that:\n",
    "* Your face data analysis prints out a clearly stated question and the answer to the question onto the terminal. The code for computing the answer correctly represents the intended question. It also creates an interpretable visualization of parts of the data that would allow a person to answer the same question.\n",
    "* Your step counter code visualizes the accelerometer data, clearly showing times where there is no movement and where peaks and valleys are detected by your algorithm. It prints the detected number of steps on the terminal at the end. The detected number is reasonable compared to ground truth and the code corresponds to the described algorithm.\n",
    "\n",
    "See Canvas for a grading rubric."
   ]
  }
 ],
 "metadata": {
  "colab": {
   "provenance": []
  },
  "kernelspec": {
   "display_name": "Python 3",
   "language": "python",
   "name": "python3"
  },
  "language_info": {
   "codemirror_mode": {
    "name": "ipython",
    "version": 3
   },
   "file_extension": ".py",
   "mimetype": "text/x-python",
   "name": "python",
   "nbconvert_exporter": "python",
   "pygments_lexer": "ipython3",
   "version": "3.8.8"
  }
 },
 "nbformat": 4,
 "nbformat_minor": 4
}
